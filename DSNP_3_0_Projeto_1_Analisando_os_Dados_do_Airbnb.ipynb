{
  "nbformat": 4,
  "nbformat_minor": 0,
  "metadata": {
    "colab": {
      "name": "DSNP 3.0 - Projeto #1 - Analisando os Dados do Airbnb.ipynb",
      "provenance": [],
      "collapsed_sections": [],
      "include_colab_link": true
    },
    "kernelspec": {
      "name": "python3",
      "display_name": "Python 3"
    }
  },
  "cells": [
    {
      "cell_type": "markdown",
      "metadata": {
        "id": "view-in-github",
        "colab_type": "text"
      },
      "source": [
        "<a href=\"https://colab.research.google.com/github/fernandofabril/data_science/blob/main/DSNP_3_0_Projeto_1_Analisando_os_Dados_do_Airbnb.ipynb\" target=\"_parent\"><img src=\"https://colab.research.google.com/assets/colab-badge.svg\" alt=\"Open In Colab\"/></a>"
      ]
    },
    {
      "cell_type": "markdown",
      "metadata": {
        "id": "kLI0gJtzDGuQ"
      },
      "source": [
        "<img alt=\"Colaboratory logo\" width=\"15%\" src=\"https://raw.githubusercontent.com/carlosfab/escola-data-science/master/img/novo_logo_bg_claro.png\">\n",
        "\n",
        "#### **Data Science na Prática 3.0**\n",
        "*by [sigmoidal.ai](https://sigmoidal.ai)*\n",
        "\n",
        "---\n",
        "\n",
        "# Análise dos Dados do Airbnb - *Porto/Portugal*\n",
        "\n",
        "O [Airbnb](https://www.airbnb.com.br/) já é considerado como sendo a **maior empresa hoteleira da atualidade**. Ah, o detalhe é que ele **não possui nenhum hotel**!\n",
        "\n",
        "Conectando pessoas que querem viajar (e se hospedar) com anfitriões que querem alugar seus imóveis de maneira prática, o Airbnb fornece uma plataforma inovadora para tornar essa hospedagem alternativa.\n",
        "\n",
        "No final de 2018, a Startup fundada 10 anos atrás, já havia **hospedado mais de 300 milhões** de pessoas ao redor de todo o mundo, desafiando as redes hoteleiras tradicionais.\n",
        "\n",
        "Uma das iniciativas do Airbnb é disponibilizar dados do site, para algumas das principais cidades do mundo. Por meio do portal [Inside Airbnb](http://insideairbnb.com/get-the-data.html), é possível baixar uma grande quantidade de dados para desenvolver projetos e soluções de *Data Science*.\n",
        "\n",
        "<center><img alt=\"Analisando Airbnb\" width=\"10%\" src=\"https://www.area360.com.au/wp-content/uploads/2017/09/airbnb-logo.jpg\"></center>\n",
        "\n",
        "**Neste *notebook*, iremos analisar os dados referentes à cidade Porto/Portugal, e ver quais insights podem ser extraídos a partir de dados brutos.**"
      ]
    },
    {
      "cell_type": "markdown",
      "metadata": {
        "id": "0zxQHhIUDF_2"
      },
      "source": [
        "## Obtenção dos Dados\n",
        "\n",
        "Todos os dados usados aqui foram obtidos a partir do site [Inside Airbnb](http://insideairbnb.com/get-the-data.html).\n",
        "\n",
        "Para esta análise exploratória inicial, será baixado apenas o seguinte arquivo:\n",
        "\n",
        "* `listings.csv` - *Summary information and metrics for listings in Porto (good for visualisations).*\n",
        "\n",
        "Importante: O portal está em constante evolução, e em determinado momento, pode ser que o [conjunto de dados](http://data.insideairbnb.com/portugal/norte/porto/2022-06-10/visualisations/listings.csv) exato utilizado nesse notebook não esteja mais disponível, o que quebraria nosso código.\n",
        "\n",
        "Caso o conjunto não esteja vais diponível, entre no [Inside Airbnb](http://insideairbnb.com/get-the-data.html), e altere o endereço de localização do arquivo na constante `DATA_PATH`.\n",
        "\n",
        "Com isso em mente, vamos ao projeto.\n",
        "\n"
      ]
    },
    {
      "cell_type": "code",
      "metadata": {
        "id": "Vhp2wMPgJ6zX"
      },
      "source": [
        "# importar os pacotes necessarios\n",
        "import pandas as pd\n",
        "import seaborn as sns\n",
        "import matplotlib.pyplot as plt\n",
        "\n",
        "%matplotlib inline"
      ],
      "execution_count": null,
      "outputs": []
    },
    {
      "cell_type": "markdown",
      "source": [
        "Criamos uma variável `DATA_PATH`  que recebe o endereço http/https do conjunto de dados."
      ],
      "metadata": {
        "id": "4q_qbnKI6m5l"
      }
    },
    {
      "cell_type": "code",
      "metadata": {
        "id": "tUmoAT8DLQ5T"
      },
      "source": [
        "# importar o arquivo listings.csv para um DataFrame\n",
        "DATA_PATH = 'http://data.insideairbnb.com/portugal/norte/porto/2022-06-10/visualisations/listings.csv'\n",
        "df = pd.read_csv(DATA_PATH, sep=',')"
      ],
      "execution_count": null,
      "outputs": []
    },
    {
      "cell_type": "markdown",
      "metadata": {
        "id": "qb5By2nIMS6m"
      },
      "source": [
        "## Análise dos Dados\n",
        "\n",
        "Esta etapa tem por objetivo criar uma consciência situacional inicial e permitir um entendimento de como os dados estão estruturados."
      ]
    },
    {
      "cell_type": "markdown",
      "metadata": {
        "id": "RYgvuebKNg8-"
      },
      "source": [
        "**Dicionário das variáveis**\n",
        "\n",
        "* `id` - Identificador unico do Aribnb\n",
        "* `name` - Nome do imóvel\n",
        "* `host_id` - Identificador do anfitrião / proprietário do imóvel\n",
        "* `host_name` - Nome do anfitrião / prorietário do imóvel\n",
        "* `neighbourhood_group` - Grupo de bairros\n",
        "* `neighbourhood` - Nome do bairro\n",
        "* `latitude` - Cordenada geografica de Latitude\n",
        "* `longitude` - Cordenada geografica de Longitude\n",
        "* `room_type` - Tipo de lugar para ficar\n",
        "* `price` - Preço da locação\n",
        "* `minimum_nights` - Número minimo de noites para locação\n",
        "* `number_of_revies` - Número de reviews de quem locou o imóvel\n",
        "* `last_review` - Data do ultimo review\n",
        "* `reviews_per_month` - Número de reviews por mês\n",
        "* `calculated_host_listings_count` - Quantidade de imóveis do mesmo anfitrião\n",
        "* `availability_365` - Número de dias de disponibilidade dentro de 365 dias\n",
        "* `number_of_reviews_ltm` - Número de reviews nos ultimos 12 meses\n",
        "* `license` - O número da licença/registro\n",
        "\n",
        "\n",
        "Antes de iniciar qualquer análise, vamos verificar a cara do nosso *dataset*, analisando as 5 primeiras entradas."
      ]
    },
    {
      "cell_type": "code",
      "metadata": {
        "id": "2iS_dae7YQtO",
        "colab": {
          "base_uri": "https://localhost:8080/",
          "height": 548
        },
        "outputId": "b80b584a-4ab3-4263-bced-924bbb60833c"
      },
      "source": [
        "# mostrar as 5 primeiras entradas\n",
        "df.head()"
      ],
      "execution_count": null,
      "outputs": [
        {
          "output_type": "execute_result",
          "data": {
            "text/plain": [
              "                   id                                               name  \\\n",
              "0            20480198                                   Casa de São João   \n",
              "1            52337524     Detached Guest House in Luxury Villa with Pool   \n",
              "2            18616304                          Rustic house by the beach   \n",
              "3            49499436             Moradia geminada moderna a 2m da praia   \n",
              "4  596254806601732230  The Shore @ Atlantic Beachfront - Patio, Tiny ...   \n",
              "\n",
              "     host_id         host_name neighbourhood_group  \\\n",
              "0  146202861  Casa De São João      VALE DE CAMBRA   \n",
              "1  423414022           Eduardo               TROFA   \n",
              "2  129318702           Cecília             ESPINHO   \n",
              "3  399215419          Fernando             ESPINHO   \n",
              "4  131440428     Elisa & André             ESPINHO   \n",
              "\n",
              "                       neighbourhood  latitude  longitude        room_type  \\\n",
              "0                              Arões  40.78164   -8.24340  Entire home/apt   \n",
              "1  Bougado (São Martinho e Santiago)  41.34749   -8.56984  Entire home/apt   \n",
              "2                            Paramos  40.96200   -8.65137  Entire home/apt   \n",
              "3                            Paramos  40.95583   -8.65506  Entire home/apt   \n",
              "4                            Espinho  41.00201   -8.64707  Entire home/apt   \n",
              "\n",
              "   price  minimum_nights  number_of_reviews last_review  reviews_per_month  \\\n",
              "0    150               1                  4  2021-08-14               0.07   \n",
              "1    100               2                  2  2022-06-04               2.00   \n",
              "2    110               5                 30  2021-08-21               0.51   \n",
              "3     90               7                  0         NaN                NaN   \n",
              "4    134               4                  3  2022-05-31               2.20   \n",
              "\n",
              "   calculated_host_listings_count  availability_365  number_of_reviews_ltm  \\\n",
              "0                               1               164                      2   \n",
              "1                               1               339                      2   \n",
              "2                               1                57                      2   \n",
              "3                               1                64                      0   \n",
              "4                               3               291                      3   \n",
              "\n",
              "     license  \n",
              "0        NaN  \n",
              "1   13286/AL  \n",
              "2   56289/AL  \n",
              "3  115355/AL  \n",
              "4  123474/AL  "
            ],
            "text/html": [
              "\n",
              "  <div id=\"df-2ddef68a-de85-47e4-a811-cc12e130b18e\">\n",
              "    <div class=\"colab-df-container\">\n",
              "      <div>\n",
              "<style scoped>\n",
              "    .dataframe tbody tr th:only-of-type {\n",
              "        vertical-align: middle;\n",
              "    }\n",
              "\n",
              "    .dataframe tbody tr th {\n",
              "        vertical-align: top;\n",
              "    }\n",
              "\n",
              "    .dataframe thead th {\n",
              "        text-align: right;\n",
              "    }\n",
              "</style>\n",
              "<table border=\"1\" class=\"dataframe\">\n",
              "  <thead>\n",
              "    <tr style=\"text-align: right;\">\n",
              "      <th></th>\n",
              "      <th>id</th>\n",
              "      <th>name</th>\n",
              "      <th>host_id</th>\n",
              "      <th>host_name</th>\n",
              "      <th>neighbourhood_group</th>\n",
              "      <th>neighbourhood</th>\n",
              "      <th>latitude</th>\n",
              "      <th>longitude</th>\n",
              "      <th>room_type</th>\n",
              "      <th>price</th>\n",
              "      <th>minimum_nights</th>\n",
              "      <th>number_of_reviews</th>\n",
              "      <th>last_review</th>\n",
              "      <th>reviews_per_month</th>\n",
              "      <th>calculated_host_listings_count</th>\n",
              "      <th>availability_365</th>\n",
              "      <th>number_of_reviews_ltm</th>\n",
              "      <th>license</th>\n",
              "    </tr>\n",
              "  </thead>\n",
              "  <tbody>\n",
              "    <tr>\n",
              "      <th>0</th>\n",
              "      <td>20480198</td>\n",
              "      <td>Casa de São João</td>\n",
              "      <td>146202861</td>\n",
              "      <td>Casa De São João</td>\n",
              "      <td>VALE DE CAMBRA</td>\n",
              "      <td>Arões</td>\n",
              "      <td>40.78164</td>\n",
              "      <td>-8.24340</td>\n",
              "      <td>Entire home/apt</td>\n",
              "      <td>150</td>\n",
              "      <td>1</td>\n",
              "      <td>4</td>\n",
              "      <td>2021-08-14</td>\n",
              "      <td>0.07</td>\n",
              "      <td>1</td>\n",
              "      <td>164</td>\n",
              "      <td>2</td>\n",
              "      <td>NaN</td>\n",
              "    </tr>\n",
              "    <tr>\n",
              "      <th>1</th>\n",
              "      <td>52337524</td>\n",
              "      <td>Detached Guest House in Luxury Villa with Pool</td>\n",
              "      <td>423414022</td>\n",
              "      <td>Eduardo</td>\n",
              "      <td>TROFA</td>\n",
              "      <td>Bougado (São Martinho e Santiago)</td>\n",
              "      <td>41.34749</td>\n",
              "      <td>-8.56984</td>\n",
              "      <td>Entire home/apt</td>\n",
              "      <td>100</td>\n",
              "      <td>2</td>\n",
              "      <td>2</td>\n",
              "      <td>2022-06-04</td>\n",
              "      <td>2.00</td>\n",
              "      <td>1</td>\n",
              "      <td>339</td>\n",
              "      <td>2</td>\n",
              "      <td>13286/AL</td>\n",
              "    </tr>\n",
              "    <tr>\n",
              "      <th>2</th>\n",
              "      <td>18616304</td>\n",
              "      <td>Rustic house by the beach</td>\n",
              "      <td>129318702</td>\n",
              "      <td>Cecília</td>\n",
              "      <td>ESPINHO</td>\n",
              "      <td>Paramos</td>\n",
              "      <td>40.96200</td>\n",
              "      <td>-8.65137</td>\n",
              "      <td>Entire home/apt</td>\n",
              "      <td>110</td>\n",
              "      <td>5</td>\n",
              "      <td>30</td>\n",
              "      <td>2021-08-21</td>\n",
              "      <td>0.51</td>\n",
              "      <td>1</td>\n",
              "      <td>57</td>\n",
              "      <td>2</td>\n",
              "      <td>56289/AL</td>\n",
              "    </tr>\n",
              "    <tr>\n",
              "      <th>3</th>\n",
              "      <td>49499436</td>\n",
              "      <td>Moradia geminada moderna a 2m da praia</td>\n",
              "      <td>399215419</td>\n",
              "      <td>Fernando</td>\n",
              "      <td>ESPINHO</td>\n",
              "      <td>Paramos</td>\n",
              "      <td>40.95583</td>\n",
              "      <td>-8.65506</td>\n",
              "      <td>Entire home/apt</td>\n",
              "      <td>90</td>\n",
              "      <td>7</td>\n",
              "      <td>0</td>\n",
              "      <td>NaN</td>\n",
              "      <td>NaN</td>\n",
              "      <td>1</td>\n",
              "      <td>64</td>\n",
              "      <td>0</td>\n",
              "      <td>115355/AL</td>\n",
              "    </tr>\n",
              "    <tr>\n",
              "      <th>4</th>\n",
              "      <td>596254806601732230</td>\n",
              "      <td>The Shore @ Atlantic Beachfront - Patio, Tiny ...</td>\n",
              "      <td>131440428</td>\n",
              "      <td>Elisa &amp; André</td>\n",
              "      <td>ESPINHO</td>\n",
              "      <td>Espinho</td>\n",
              "      <td>41.00201</td>\n",
              "      <td>-8.64707</td>\n",
              "      <td>Entire home/apt</td>\n",
              "      <td>134</td>\n",
              "      <td>4</td>\n",
              "      <td>3</td>\n",
              "      <td>2022-05-31</td>\n",
              "      <td>2.20</td>\n",
              "      <td>3</td>\n",
              "      <td>291</td>\n",
              "      <td>3</td>\n",
              "      <td>123474/AL</td>\n",
              "    </tr>\n",
              "  </tbody>\n",
              "</table>\n",
              "</div>\n",
              "      <button class=\"colab-df-convert\" onclick=\"convertToInteractive('df-2ddef68a-de85-47e4-a811-cc12e130b18e')\"\n",
              "              title=\"Convert this dataframe to an interactive table.\"\n",
              "              style=\"display:none;\">\n",
              "        \n",
              "  <svg xmlns=\"http://www.w3.org/2000/svg\" height=\"24px\"viewBox=\"0 0 24 24\"\n",
              "       width=\"24px\">\n",
              "    <path d=\"M0 0h24v24H0V0z\" fill=\"none\"/>\n",
              "    <path d=\"M18.56 5.44l.94 2.06.94-2.06 2.06-.94-2.06-.94-.94-2.06-.94 2.06-2.06.94zm-11 1L8.5 8.5l.94-2.06 2.06-.94-2.06-.94L8.5 2.5l-.94 2.06-2.06.94zm10 10l.94 2.06.94-2.06 2.06-.94-2.06-.94-.94-2.06-.94 2.06-2.06.94z\"/><path d=\"M17.41 7.96l-1.37-1.37c-.4-.4-.92-.59-1.43-.59-.52 0-1.04.2-1.43.59L10.3 9.45l-7.72 7.72c-.78.78-.78 2.05 0 2.83L4 21.41c.39.39.9.59 1.41.59.51 0 1.02-.2 1.41-.59l7.78-7.78 2.81-2.81c.8-.78.8-2.07 0-2.86zM5.41 20L4 18.59l7.72-7.72 1.47 1.35L5.41 20z\"/>\n",
              "  </svg>\n",
              "      </button>\n",
              "      \n",
              "  <style>\n",
              "    .colab-df-container {\n",
              "      display:flex;\n",
              "      flex-wrap:wrap;\n",
              "      gap: 12px;\n",
              "    }\n",
              "\n",
              "    .colab-df-convert {\n",
              "      background-color: #E8F0FE;\n",
              "      border: none;\n",
              "      border-radius: 50%;\n",
              "      cursor: pointer;\n",
              "      display: none;\n",
              "      fill: #1967D2;\n",
              "      height: 32px;\n",
              "      padding: 0 0 0 0;\n",
              "      width: 32px;\n",
              "    }\n",
              "\n",
              "    .colab-df-convert:hover {\n",
              "      background-color: #E2EBFA;\n",
              "      box-shadow: 0px 1px 2px rgba(60, 64, 67, 0.3), 0px 1px 3px 1px rgba(60, 64, 67, 0.15);\n",
              "      fill: #174EA6;\n",
              "    }\n",
              "\n",
              "    [theme=dark] .colab-df-convert {\n",
              "      background-color: #3B4455;\n",
              "      fill: #D2E3FC;\n",
              "    }\n",
              "\n",
              "    [theme=dark] .colab-df-convert:hover {\n",
              "      background-color: #434B5C;\n",
              "      box-shadow: 0px 1px 3px 1px rgba(0, 0, 0, 0.15);\n",
              "      filter: drop-shadow(0px 1px 2px rgba(0, 0, 0, 0.3));\n",
              "      fill: #FFFFFF;\n",
              "    }\n",
              "  </style>\n",
              "\n",
              "      <script>\n",
              "        const buttonEl =\n",
              "          document.querySelector('#df-2ddef68a-de85-47e4-a811-cc12e130b18e button.colab-df-convert');\n",
              "        buttonEl.style.display =\n",
              "          google.colab.kernel.accessAllowed ? 'block' : 'none';\n",
              "\n",
              "        async function convertToInteractive(key) {\n",
              "          const element = document.querySelector('#df-2ddef68a-de85-47e4-a811-cc12e130b18e');\n",
              "          const dataTable =\n",
              "            await google.colab.kernel.invokeFunction('convertToInteractive',\n",
              "                                                     [key], {});\n",
              "          if (!dataTable) return;\n",
              "\n",
              "          const docLinkHtml = 'Like what you see? Visit the ' +\n",
              "            '<a target=\"_blank\" href=https://colab.research.google.com/notebooks/data_table.ipynb>data table notebook</a>'\n",
              "            + ' to learn more about interactive tables.';\n",
              "          element.innerHTML = '';\n",
              "          dataTable['output_type'] = 'display_data';\n",
              "          await google.colab.output.renderOutput(dataTable, element);\n",
              "          const docLink = document.createElement('div');\n",
              "          docLink.innerHTML = docLinkHtml;\n",
              "          element.appendChild(docLink);\n",
              "        }\n",
              "      </script>\n",
              "    </div>\n",
              "  </div>\n",
              "  "
            ]
          },
          "metadata": {},
          "execution_count": 3
        }
      ]
    },
    {
      "cell_type": "markdown",
      "metadata": {
        "id": "6-B_qtEaYEd-"
      },
      "source": [
        "### **Q1. Quantos atributos (variáveis) e quantas entradas o nosso conjunto de dados possui? Quais os tipos das variáveis?**\n",
        "\n",
        "Foi baixado uma versão resumida do conjunto de dados `listings.csv`.\n",
        "\n",
        "No mesmo site tem um outro arquivo que é uma versão detalhada `listings.csv.gz`\n",
        "\n",
        "Nesse conjunto de dados que estamos trabalhando temos 11.114 entradas e 18 variáveis"
      ]
    },
    {
      "cell_type": "code",
      "metadata": {
        "id": "TFRK0tniLV-G",
        "colab": {
          "base_uri": "https://localhost:8080/",
          "height": 399
        },
        "outputId": "48d5b59a-449c-4fb7-c123-ad899be244e0"
      },
      "source": [
        "# identificar o volume de dados do DataFrame\n",
        "print('Número de Registros/Entradas:\\t {}'.format(df.shape[0]))\n",
        "print('Número de Colunas/Variáveis:\\t {}\\n'.format(df.shape[1]))\n",
        "\n",
        "# verificar as 5 primeiras entradas do dataset\n",
        "display(df.dtypes)"
      ],
      "execution_count": null,
      "outputs": [
        {
          "output_type": "stream",
          "name": "stdout",
          "text": [
            "Número de Registros/Entradas:\t 11114\n",
            "Número de Colunas/Variáveis:\t 18\n",
            "\n"
          ]
        },
        {
          "output_type": "display_data",
          "data": {
            "text/plain": [
              "id                                  int64\n",
              "name                               object\n",
              "host_id                             int64\n",
              "host_name                          object\n",
              "neighbourhood_group                object\n",
              "neighbourhood                      object\n",
              "latitude                          float64\n",
              "longitude                         float64\n",
              "room_type                          object\n",
              "price                               int64\n",
              "minimum_nights                      int64\n",
              "number_of_reviews                   int64\n",
              "last_review                        object\n",
              "reviews_per_month                 float64\n",
              "calculated_host_listings_count      int64\n",
              "availability_365                    int64\n",
              "number_of_reviews_ltm               int64\n",
              "license                            object\n",
              "dtype: object"
            ]
          },
          "metadata": {}
        }
      ]
    },
    {
      "cell_type": "markdown",
      "metadata": {
        "id": "yz1urSUGW9iE"
      },
      "source": [
        "### **Q2. Qual a porcentagem de valores ausentes no *dataset*?**\n",
        "\n",
        "A qualidade de um dataset está diretamente relacionada à quantidade de valores ausentes. É importante entender logo no início se esses valores nulos são significativos comparados ao total de entradas.\n",
        "\n",
        "* As variáveis `reviews_per_month` e `last_review` estão com 12% de valores \n",
        "nulos, então temos que entender se esses valores vão interferir na nossa analise ou se vamos ter que eliminar essas entradas ou atribuir algum valor a elas.\n",
        "\n",
        "*  A variável `license` está com 7% de valores núlos, porém essa variável não vai ter influência na nossa analise.\n",
        "\n",
        "* As outras variáveis não tem valor nulo."
      ]
    },
    {
      "cell_type": "code",
      "metadata": {
        "id": "plk2FjbCXOqP",
        "colab": {
          "base_uri": "https://localhost:8080/"
        },
        "outputId": "195f4aa9-aabf-47ee-86bc-84deb8b33984"
      },
      "source": [
        "# ordenar em ordem decrescente as variáveis por seus valores ausentes\n",
        "(df.isnull().sum() / df.shape[0] * 100).sort_values(ascending=False)"
      ],
      "execution_count": null,
      "outputs": [
        {
          "output_type": "execute_result",
          "data": {
            "text/plain": [
              "reviews_per_month                 12.551737\n",
              "last_review                       12.551737\n",
              "license                            7.144143\n",
              "host_name                          0.008998\n",
              "minimum_nights                     0.000000\n",
              "number_of_reviews_ltm              0.000000\n",
              "availability_365                   0.000000\n",
              "calculated_host_listings_count     0.000000\n",
              "number_of_reviews                  0.000000\n",
              "id                                 0.000000\n",
              "name                               0.000000\n",
              "room_type                          0.000000\n",
              "longitude                          0.000000\n",
              "latitude                           0.000000\n",
              "neighbourhood                      0.000000\n",
              "neighbourhood_group                0.000000\n",
              "host_id                            0.000000\n",
              "price                              0.000000\n",
              "dtype: float64"
            ]
          },
          "metadata": {},
          "execution_count": 75
        }
      ]
    },
    {
      "cell_type": "markdown",
      "metadata": {
        "id": "iHXvvHIxaoNc"
      },
      "source": [
        "### **Q3. Qual o tipo de distribuição das variáveis?** \n",
        "\n",
        "Para identificar a distribuição das variáveis, vamos plotar um histograma."
      ]
    },
    {
      "cell_type": "code",
      "metadata": {
        "id": "q2wWSfeRbmBo",
        "colab": {
          "base_uri": "https://localhost:8080/",
          "height": 607
        },
        "outputId": "d86c9d1b-391b-4f35-93ff-031b614a3621"
      },
      "source": [
        "# plotar o histograma das variáveis numéricas\n",
        "df.hist(bins=15, figsize=(15, 10));"
      ],
      "execution_count": null,
      "outputs": [
        {
          "output_type": "display_data",
          "data": {
            "text/plain": [
              "<Figure size 1080x720 with 12 Axes>"
            ],
            "image/png": "[encoded data removed]"
          },
          "metadata": {
            "needs_background": "light"
          }
        }
      ]
    },
    {
      "cell_type": "markdown",
      "metadata": {
        "id": "7x4aw1j5wNmn"
      },
      "source": [
        "### **Q4. Qual a média dos preços de aluguel?**\n",
        "\n",
        "A média de preços do valor do alguel está em 114,84. Porém é importante analisar os valores `min`(minimo) e `max`(maximo) para verificar se existe algum outlier.\n",
        "\n",
        "Essa diferença muito grande pode influênciar na média `mean`."
      ]
    },
    {
      "cell_type": "code",
      "metadata": {
        "id": "ff-8gUahLk-C",
        "colab": {
          "base_uri": "https://localhost:8080/"
        },
        "outputId": "e7a081e9-43a7-42a3-bf3b-cda0241ea998"
      },
      "source": [
        "# ver a média da coluna `price`\n",
        "df.price.describe()"
      ],
      "execution_count": null,
      "outputs": [
        {
          "output_type": "execute_result",
          "data": {
            "text/plain": [
              "count    11114.000000\n",
              "mean       114.840741\n",
              "std        260.929701\n",
              "min          9.000000\n",
              "25%         55.000000\n",
              "50%         81.000000\n",
              "75%        120.000000\n",
              "max      11799.000000\n",
              "Name: price, dtype: float64"
            ]
          },
          "metadata": {},
          "execution_count": 9
        }
      ]
    },
    {
      "cell_type": "markdown",
      "metadata": {
        "id": "IXn2oIo5qx-w"
      },
      "source": [
        "### **Q4. Qual a correlação existente entre as variáveis**\n",
        "\n",
        "Vamos verificar a correlção entre a variáveis existentes.\n",
        "\n",
        "Para isso vamos utilizar a função `corr()`.\n",
        "\n",
        "A correlação entre as variáveis, aparentemente, são fracas. \n",
        "\n",
        "Apenas a correlação entre `reviews_per_month` e `numero_of_reviews` é uma correlação moderada, por estar entre 0.5 e 0.7\n",
        "\n",
        "Vamos plotar um gráfico *heatmap* utilizando a biblioteca `seaborn`"
      ]
    },
    {
      "cell_type": "code",
      "metadata": {
        "id": "x2ayzBajqxyd",
        "colab": {
          "base_uri": "https://localhost:8080/",
          "height": 237
        },
        "outputId": "0d129a40-7f7a-4f67-a99a-413ba52bc79b"
      },
      "source": [
        "# criar uma matriz de correlação\n",
        "corr = df[['price', 'minimum_nights', 'number_of_reviews', 'reviews_per_month',\n",
        "    'calculated_host_listings_count', 'availability_365']].corr()\n",
        "\n",
        "# mostrar a matriz de correlação\n",
        "display(corr)"
      ],
      "execution_count": null,
      "outputs": [
        {
          "output_type": "display_data",
          "data": {
            "text/plain": [
              "                                   price  minimum_nights  number_of_reviews  \\\n",
              "price                           1.000000       -0.000817          -0.022635   \n",
              "minimum_nights                 -0.000817        1.000000          -0.025787   \n",
              "number_of_reviews              -0.022635       -0.025787           1.000000   \n",
              "reviews_per_month              -0.034059       -0.037690           0.569716   \n",
              "calculated_host_listings_count  0.123396       -0.022017           0.032177   \n",
              "availability_365                0.034773       -0.022028          -0.014315   \n",
              "\n",
              "                                reviews_per_month  \\\n",
              "price                                   -0.034059   \n",
              "minimum_nights                          -0.037690   \n",
              "number_of_reviews                        0.569716   \n",
              "reviews_per_month                        1.000000   \n",
              "calculated_host_listings_count           0.118000   \n",
              "availability_365                         0.131368   \n",
              "\n",
              "                                calculated_host_listings_count  \\\n",
              "price                                                 0.123396   \n",
              "minimum_nights                                       -0.022017   \n",
              "number_of_reviews                                     0.032177   \n",
              "reviews_per_month                                     0.118000   \n",
              "calculated_host_listings_count                        1.000000   \n",
              "availability_365                                      0.159869   \n",
              "\n",
              "                                availability_365  \n",
              "price                                   0.034773  \n",
              "minimum_nights                         -0.022028  \n",
              "number_of_reviews                      -0.014315  \n",
              "reviews_per_month                       0.131368  \n",
              "calculated_host_listings_count          0.159869  \n",
              "availability_365                        1.000000  "
            ],
            "text/html": [
              "\n",
              "  <div id=\"df-f832649f-0812-451c-b220-99f2f7a3d280\">\n",
              "    <div class=\"colab-df-container\">\n",
              "      <div>\n",
              "<style scoped>\n",
              "    .dataframe tbody tr th:only-of-type {\n",
              "        vertical-align: middle;\n",
              "    }\n",
              "\n",
              "    .dataframe tbody tr th {\n",
              "        vertical-align: top;\n",
              "    }\n",
              "\n",
              "    .dataframe thead th {\n",
              "        text-align: right;\n",
              "    }\n",
              "</style>\n",
              "<table border=\"1\" class=\"dataframe\">\n",
              "  <thead>\n",
              "    <tr style=\"text-align: right;\">\n",
              "      <th></th>\n",
              "      <th>price</th>\n",
              "      <th>minimum_nights</th>\n",
              "      <th>number_of_reviews</th>\n",
              "      <th>reviews_per_month</th>\n",
              "      <th>calculated_host_listings_count</th>\n",
              "      <th>availability_365</th>\n",
              "    </tr>\n",
              "  </thead>\n",
              "  <tbody>\n",
              "    <tr>\n",
              "      <th>price</th>\n",
              "      <td>1.000000</td>\n",
              "      <td>-0.000817</td>\n",
              "      <td>-0.022635</td>\n",
              "      <td>-0.034059</td>\n",
              "      <td>0.123396</td>\n",
              "      <td>0.034773</td>\n",
              "    </tr>\n",
              "    <tr>\n",
              "      <th>minimum_nights</th>\n",
              "      <td>-0.000817</td>\n",
              "      <td>1.000000</td>\n",
              "      <td>-0.025787</td>\n",
              "      <td>-0.037690</td>\n",
              "      <td>-0.022017</td>\n",
              "      <td>-0.022028</td>\n",
              "    </tr>\n",
              "    <tr>\n",
              "      <th>number_of_reviews</th>\n",
              "      <td>-0.022635</td>\n",
              "      <td>-0.025787</td>\n",
              "      <td>1.000000</td>\n",
              "      <td>0.569716</td>\n",
              "      <td>0.032177</td>\n",
              "      <td>-0.014315</td>\n",
              "    </tr>\n",
              "    <tr>\n",
              "      <th>reviews_per_month</th>\n",
              "      <td>-0.034059</td>\n",
              "      <td>-0.037690</td>\n",
              "      <td>0.569716</td>\n",
              "      <td>1.000000</td>\n",
              "      <td>0.118000</td>\n",
              "      <td>0.131368</td>\n",
              "    </tr>\n",
              "    <tr>\n",
              "      <th>calculated_host_listings_count</th>\n",
              "      <td>0.123396</td>\n",
              "      <td>-0.022017</td>\n",
              "      <td>0.032177</td>\n",
              "      <td>0.118000</td>\n",
              "      <td>1.000000</td>\n",
              "      <td>0.159869</td>\n",
              "    </tr>\n",
              "    <tr>\n",
              "      <th>availability_365</th>\n",
              "      <td>0.034773</td>\n",
              "      <td>-0.022028</td>\n",
              "      <td>-0.014315</td>\n",
              "      <td>0.131368</td>\n",
              "      <td>0.159869</td>\n",
              "      <td>1.000000</td>\n",
              "    </tr>\n",
              "  </tbody>\n",
              "</table>\n",
              "</div>\n",
              "      <button class=\"colab-df-convert\" onclick=\"convertToInteractive('df-f832649f-0812-451c-b220-99f2f7a3d280')\"\n",
              "              title=\"Convert this dataframe to an interactive table.\"\n",
              "              style=\"display:none;\">\n",
              "        \n",
              "  <svg xmlns=\"http://www.w3.org/2000/svg\" height=\"24px\"viewBox=\"0 0 24 24\"\n",
              "       width=\"24px\">\n",
              "    <path d=\"M0 0h24v24H0V0z\" fill=\"none\"/>\n",
              "    <path d=\"M18.56 5.44l.94 2.06.94-2.06 2.06-.94-2.06-.94-.94-2.06-.94 2.06-2.06.94zm-11 1L8.5 8.5l.94-2.06 2.06-.94-2.06-.94L8.5 2.5l-.94 2.06-2.06.94zm10 10l.94 2.06.94-2.06 2.06-.94-2.06-.94-.94-2.06-.94 2.06-2.06.94z\"/><path d=\"M17.41 7.96l-1.37-1.37c-.4-.4-.92-.59-1.43-.59-.52 0-1.04.2-1.43.59L10.3 9.45l-7.72 7.72c-.78.78-.78 2.05 0 2.83L4 21.41c.39.39.9.59 1.41.59.51 0 1.02-.2 1.41-.59l7.78-7.78 2.81-2.81c.8-.78.8-2.07 0-2.86zM5.41 20L4 18.59l7.72-7.72 1.47 1.35L5.41 20z\"/>\n",
              "  </svg>\n",
              "      </button>\n",
              "      \n",
              "  <style>\n",
              "    .colab-df-container {\n",
              "      display:flex;\n",
              "      flex-wrap:wrap;\n",
              "      gap: 12px;\n",
              "    }\n",
              "\n",
              "    .colab-df-convert {\n",
              "      background-color: #E8F0FE;\n",
              "      border: none;\n",
              "      border-radius: 50%;\n",
              "      cursor: pointer;\n",
              "      display: none;\n",
              "      fill: #1967D2;\n",
              "      height: 32px;\n",
              "      padding: 0 0 0 0;\n",
              "      width: 32px;\n",
              "    }\n",
              "\n",
              "    .colab-df-convert:hover {\n",
              "      background-color: #E2EBFA;\n",
              "      box-shadow: 0px 1px 2px rgba(60, 64, 67, 0.3), 0px 1px 3px 1px rgba(60, 64, 67, 0.15);\n",
              "      fill: #174EA6;\n",
              "    }\n",
              "\n",
              "    [theme=dark] .colab-df-convert {\n",
              "      background-color: #3B4455;\n",
              "      fill: #D2E3FC;\n",
              "    }\n",
              "\n",
              "    [theme=dark] .colab-df-convert:hover {\n",
              "      background-color: #434B5C;\n",
              "      box-shadow: 0px 1px 3px 1px rgba(0, 0, 0, 0.15);\n",
              "      filter: drop-shadow(0px 1px 2px rgba(0, 0, 0, 0.3));\n",
              "      fill: #FFFFFF;\n",
              "    }\n",
              "  </style>\n",
              "\n",
              "      <script>\n",
              "        const buttonEl =\n",
              "          document.querySelector('#df-f832649f-0812-451c-b220-99f2f7a3d280 button.colab-df-convert');\n",
              "        buttonEl.style.display =\n",
              "          google.colab.kernel.accessAllowed ? 'block' : 'none';\n",
              "\n",
              "        async function convertToInteractive(key) {\n",
              "          const element = document.querySelector('#df-f832649f-0812-451c-b220-99f2f7a3d280');\n",
              "          const dataTable =\n",
              "            await google.colab.kernel.invokeFunction('convertToInteractive',\n",
              "                                                     [key], {});\n",
              "          if (!dataTable) return;\n",
              "\n",
              "          const docLinkHtml = 'Like what you see? Visit the ' +\n",
              "            '<a target=\"_blank\" href=https://colab.research.google.com/notebooks/data_table.ipynb>data table notebook</a>'\n",
              "            + ' to learn more about interactive tables.';\n",
              "          element.innerHTML = '';\n",
              "          dataTable['output_type'] = 'display_data';\n",
              "          await google.colab.output.renderOutput(dataTable, element);\n",
              "          const docLink = document.createElement('div');\n",
              "          docLink.innerHTML = docLinkHtml;\n",
              "          element.appendChild(docLink);\n",
              "        }\n",
              "      </script>\n",
              "    </div>\n",
              "  </div>\n",
              "  "
            ]
          },
          "metadata": {}
        }
      ]
    },
    {
      "cell_type": "code",
      "metadata": {
        "id": "91UujDr6ueqE",
        "colab": {
          "base_uri": "https://localhost:8080/",
          "height": 411
        },
        "outputId": "679e6d40-476b-4cc3-849f-7966377c5584"
      },
      "source": [
        "# plotar um heatmap a partir das correlações\n",
        "sns.heatmap(corr, cmap='RdBu', fmt='.2f', square=True, linecolor='white', annot=True);"
      ],
      "execution_count": null,
      "outputs": [
        {
          "output_type": "display_data",
          "data": {
            "text/plain": [
              "<Figure size 432x288 with 2 Axes>"
            ],
            "image/png": "[encoded data removed]"
          },
          "metadata": {
            "needs_background": "light"
          }
        }
      ]
    },
    {
      "cell_type": "markdown",
      "metadata": {
        "id": "7b6RMWpuHKN-"
      },
      "source": [
        "### **Q5. Qual o tipo de imóvel mais alugado no Airbnb?**\n",
        "\n",
        "A variável `room_type` indica o tipo de imóvel a ser alugado.\n",
        "\n",
        "No Airbnb pode-se alugar o apartamento/casa inteira ou apenas um quarto.\n",
        "\n",
        "Para saber qual o tipo de imóvel que mais está sendo alugado, vamos utilizar a função `value_counts()`.\n",
        "\n",
        "Nesse conjuno de dados o que mais está sendo alugado é o apartamento/casa toda, com 9.014.\n",
        "\n",
        "Vamos mostrar também a porcentagem de cada tipo de imóvel alugado/ofertado."
      ]
    },
    {
      "cell_type": "code",
      "metadata": {
        "id": "ueLPNWvPHgfB",
        "colab": {
          "base_uri": "https://localhost:8080/"
        },
        "outputId": "651a2997-7c29-44ba-cc38-d91815454a44"
      },
      "source": [
        "# mostrar a quantidade de cada tipo de imóvel disponível\n",
        "df.room_type.value_counts()\n"
      ],
      "execution_count": null,
      "outputs": [
        {
          "output_type": "execute_result",
          "data": {
            "text/plain": [
              "Entire home/apt    9014\n",
              "Private room       1865\n",
              "Hotel room          138\n",
              "Shared room          97\n",
              "Name: room_type, dtype: int64"
            ]
          },
          "metadata": {},
          "execution_count": 36
        }
      ]
    },
    {
      "cell_type": "code",
      "metadata": {
        "id": "EvwoO-XAHhIm",
        "colab": {
          "base_uri": "https://localhost:8080/"
        },
        "outputId": "e64c91db-9ebc-4489-b690-871f894cbab3"
      },
      "source": [
        "# mostrar a porcentagem de cada tipo de imóvel disponível\n",
        "df.room_type.value_counts() / df.shape[0] * 100"
      ],
      "execution_count": null,
      "outputs": [
        {
          "output_type": "execute_result",
          "data": {
            "text/plain": [
              "Entire home/apt    81.104913\n",
              "Private room       16.780637\n",
              "Hotel room          1.241677\n",
              "Shared room         0.872773\n",
              "Name: room_type, dtype: float64"
            ]
          },
          "metadata": {},
          "execution_count": 38
        }
      ]
    },
    {
      "cell_type": "markdown",
      "metadata": {
        "id": "MFa5NbnLJMcd"
      },
      "source": [
        "### **Q6. Qual a localidade mais cara do Porto-Portugual?**\n",
        "\n",
        "Para saber qual a localidade mais cara, vamos usar a função `groupby()`.\n",
        "\n",
        "Filtramos a coluna `price` e usamos a função `mean()` para saber a média.\n",
        "\n",
        "Mostrando os 10 mais caros por ondem descendente de valor médio.\n",
        "\n",
        "Nesse exmplo temos a localidade ***Negrelos (São Tomé)*** como sendo a mais cara."
      ]
    },
    {
      "cell_type": "code",
      "metadata": {
        "id": "MD_xa143JZpi",
        "colab": {
          "base_uri": "https://localhost:8080/"
        },
        "outputId": "3073d545-fe53-4b25-b28f-47469555924a"
      },
      "source": [
        "# ver preços por bairros, na média\n",
        "df.groupby(by=['neighbourhood'])['price'].mean().sort_values(ascending=False)[:10]"
      ],
      "execution_count": null,
      "outputs": [
        {
          "output_type": "execute_result",
          "data": {
            "text/plain": [
              "neighbourhood\n",
              "Negrelos (São Tomé)                     600.000000\n",
              "Cete                                    502.214286\n",
              "Gondomar (São Cosme), Valbom e Jovim    442.611111\n",
              "Paços de Brandão                        400.000000\n",
              "Milheirós de Poiares                    342.000000\n",
              "Cristelo                                314.000000\n",
              "Sandim, Olival, Lever e Crestuma        268.483871\n",
              "Vila Nova do Campo                      245.750000\n",
              "São Miguel do Mato                      237.666667\n",
              "Gião                                    231.500000\n",
              "Name: price, dtype: float64"
            ]
          },
          "metadata": {},
          "execution_count": 68
        }
      ]
    },
    {
      "cell_type": "markdown",
      "source": [
        "Como são fornecidas as Latitudes e Longitudes para os imóveis, é possível plotar cada ponto. Para isso, considera-se x=`longitude` e y=`latitude`."
      ],
      "metadata": {
        "id": "n26VqZew344y"
      }
    },
    {
      "cell_type": "code",
      "metadata": {
        "id": "UxVJqJ_3W59I",
        "colab": {
          "base_uri": "https://localhost:8080/",
          "height": 469
        },
        "outputId": "6e79be7b-4739-4cfb-d9f3-cc4d845eaa6e"
      },
      "source": [
        "# plotar os imóveis pela latitude-longitude\n",
        "df.plot(kind=\"scatter\", x='longitude', y='latitude', alpha=0.4, c=df['price'], s=8,\n",
        "              cmap=plt.get_cmap('jet'), figsize=(12,8));\n"
      ],
      "execution_count": null,
      "outputs": [
        {
          "output_type": "display_data",
          "data": {
            "text/plain": [
              "<Figure size 864x576 with 2 Axes>"
            ],
            "image/png": "[encoded data removed]"
          },
          "metadata": {
            "needs_background": "light"
          }
        }
      ]
    },
    {
      "cell_type": "markdown",
      "metadata": {
        "id": "vTneAMRUYvr1"
      },
      "source": [
        "### **Q7. Qual é a média do mínimo de noites para aluguel (minimum_nights)?**\n",
        "\n",
        "Para saber o minimo de numero de noites, podemos utilizamos a função `mean()`, porém a função `describe()` nos traz mais informações e podemos perceber que a diferença entre o `min` e o `max` é muito grande.\n",
        "\n",
        "O que pode, talvez, distorcer o valor da média, provavelmente por termos outlier"
      ]
    },
    {
      "cell_type": "code",
      "metadata": {
        "id": "_VzNhrEgY82N",
        "colab": {
          "base_uri": "https://localhost:8080/"
        },
        "outputId": "041ee201-f1c7-4f7e-bf2c-67187d62a54e"
      },
      "source": [
        "# ver a média da coluna `minimum_nights`\n",
        "df.minimum_nights.describe()"
      ],
      "execution_count": null,
      "outputs": [
        {
          "output_type": "execute_result",
          "data": {
            "text/plain": [
              "count    11114.000000\n",
              "mean         4.223862\n",
              "std         33.284097\n",
              "min          1.000000\n",
              "25%          1.000000\n",
              "50%          2.000000\n",
              "75%          2.000000\n",
              "max       1124.000000\n",
              "Name: minimum_nights, dtype: float64"
            ]
          },
          "metadata": {},
          "execution_count": 74
        }
      ]
    },
    {
      "cell_type": "markdown",
      "metadata": {
        "id": "GkvAg623RjoR"
      },
      "source": [
        "## Conclusões\n"
      ]
    },
    {
      "cell_type": "markdown",
      "metadata": {
        "id": "rbZ3Hsy9Ypw8"
      },
      "source": [
        "Foi apenas uma análise superficial e utilizando um conjunto de dados resumido.\n",
        "\n",
        "Podemos notar que temos outliers e poucos imóveis disponiveis.\n",
        "\n",
        "A presença de outliers afeta a analise de valores maximo e médio das variáveis númericas.\n",
        "\n",
        "Poderemos em uma proxima oportunidades, trabalhar com o conjunto de dados mais detalhados."
      ]
    },
    {
      "cell_type": "code",
      "source": [
        ""
      ],
      "metadata": {
        "id": "waGskYPFBXrR"
      },
      "execution_count": null,
      "outputs": []
    }
  ]
}